{
 "metadata": {
  "name": "",
  "signature": "sha256:3dfb747083f4bfe3d28b219cd1f439cb2d79850b3195f9f6f0e57747ab2534e0"
 },
 "nbformat": 3,
 "nbformat_minor": 0,
 "worksheets": [
  {
   "cells": [
    {
     "cell_type": "markdown",
     "metadata": {},
     "source": [
      "#Try and Except Statements\n",
      "\n",
      "We learned about assert statements. These statements halt the execution of code. But what if we, say, had some deviations from normal input that wouldn't totally wreck our program. We would maybe want to handle that data without halting execution.\n",
      "\n",
      "Enter the try and except statement. Try and except statements allow us to _try_ an operation. If the operation goes off without a hitch, awesome! If not, the code executes the except statement. \n",
      "\n",
      "Going back to our function, what could be one place we could replace an assert statement with a try/except statement:"
     ]
    },
    {
     "cell_type": "code",
     "collapsed": false,
     "input": [
      "def filter_name(last_name, key):\n",
      "\n",
      "        positives = []\n",
      "        negatives = []\n",
      "#Regular comments can be embedded in the text after a pound sign.\n",
      "        for letter in last_name:\n",
      "            assert letter.isalpha()\n",
      "            if letter == key:\n",
      "                positives.append(letter)\n",
      "            else: \n",
      "                negatives.append(letter)\n",
      "        return([positives, negatives])\n",
      "filter_name (last_name, key)     "
     ],
     "language": "python",
     "metadata": {},
     "outputs": [
      {
       "ename": "AssertionError",
       "evalue": "",
       "output_type": "pyerr",
       "traceback": [
        "\u001b[1;31m---------------------------------------------------------------------------\u001b[0m\n\u001b[1;31mAssertionError\u001b[0m                            Traceback (most recent call last)",
        "\u001b[1;32m<ipython-input-50-4b4e17c84603>\u001b[0m in \u001b[0;36m<module>\u001b[1;34m()\u001b[0m\n\u001b[0;32m     11\u001b[0m                 \u001b[0mnegatives\u001b[0m\u001b[1;33m.\u001b[0m\u001b[0mappend\u001b[0m\u001b[1;33m(\u001b[0m\u001b[0mletter\u001b[0m\u001b[1;33m)\u001b[0m\u001b[1;33m\u001b[0m\u001b[0m\n\u001b[0;32m     12\u001b[0m         \u001b[1;32mreturn\u001b[0m\u001b[1;33m(\u001b[0m\u001b[1;33m[\u001b[0m\u001b[0mpositives\u001b[0m\u001b[1;33m,\u001b[0m \u001b[0mnegatives\u001b[0m\u001b[1;33m]\u001b[0m\u001b[1;33m)\u001b[0m\u001b[1;33m\u001b[0m\u001b[0m\n\u001b[1;32m---> 13\u001b[1;33m \u001b[0mfilter_name\u001b[0m \u001b[1;33m(\u001b[0m\u001b[0mlast_name\u001b[0m\u001b[1;33m,\u001b[0m \u001b[0mkey\u001b[0m\u001b[1;33m)\u001b[0m\u001b[1;33m\u001b[0m\u001b[0m\n\u001b[0m",
        "\u001b[1;32m<ipython-input-50-4b4e17c84603>\u001b[0m in \u001b[0;36mfilter_name\u001b[1;34m(last_name, key)\u001b[0m\n\u001b[0;32m      5\u001b[0m \u001b[1;31m#Regular comments can be embedded in the text after a pound sign.\u001b[0m\u001b[1;33m\u001b[0m\u001b[1;33m\u001b[0m\u001b[0m\n\u001b[0;32m      6\u001b[0m         \u001b[1;32mfor\u001b[0m \u001b[0mletter\u001b[0m \u001b[1;32min\u001b[0m \u001b[0mlast_name\u001b[0m\u001b[1;33m:\u001b[0m\u001b[1;33m\u001b[0m\u001b[0m\n\u001b[1;32m----> 7\u001b[1;33m             \u001b[1;32massert\u001b[0m \u001b[0mletter\u001b[0m\u001b[1;33m.\u001b[0m\u001b[0misalpha\u001b[0m\u001b[1;33m(\u001b[0m\u001b[1;33m)\u001b[0m\u001b[1;33m\u001b[0m\u001b[0m\n\u001b[0m\u001b[0;32m      8\u001b[0m             \u001b[1;32mif\u001b[0m \u001b[0mletter\u001b[0m \u001b[1;33m==\u001b[0m \u001b[0mkey\u001b[0m\u001b[1;33m:\u001b[0m\u001b[1;33m\u001b[0m\u001b[0m\n\u001b[0;32m      9\u001b[0m                 \u001b[0mpositives\u001b[0m\u001b[1;33m.\u001b[0m\u001b[0mappend\u001b[0m\u001b[1;33m(\u001b[0m\u001b[0mletter\u001b[0m\u001b[1;33m)\u001b[0m\u001b[1;33m\u001b[0m\u001b[0m\n",
        "\u001b[1;31mAssertionError\u001b[0m: "
       ]
      }
     ],
     "prompt_number": 50
    },
    {
     "cell_type": "code",
     "collapsed": false,
     "input": [
      "last_name = 'wr1ght'\n",
      "key = 'g'\n",
      "def filter_name(last_name, key):\n",
      "\n",
      "        positives = []\n",
      "        negatives = []\n",
      "        for letter in last_name:\n",
      "            try:\n",
      "               print int(letter)\n",
      "               print \"this isn't a letter\"\n",
      "               pass\n",
      "            except:\n",
      "               letter = letter.lower() \n",
      "               if letter == key:\n",
      "                    positives.append(letter)\n",
      "               else: \n",
      "                    negatives.append(letter)\n",
      "\n",
      "        return([positives, negatives])\n",
      "filter_name(last_name, key)        "
     ],
     "language": "python",
     "metadata": {},
     "outputs": [
      {
       "output_type": "stream",
       "stream": "stdout",
       "text": [
        "1\n",
        "this isn't a letter\n"
       ]
      },
      {
       "metadata": {},
       "output_type": "pyout",
       "prompt_number": 49,
       "text": [
        "[['g'], ['w', 'r', 'h', 't']]"
       ]
      }
     ],
     "prompt_number": 49
    },
    {
     "cell_type": "markdown",
     "metadata": {},
     "source": [
      "Why does the above not work?\n",
      "Or, if you're looking ahead, how does the below fix the issue?"
     ]
    },
    {
     "cell_type": "code",
     "collapsed": false,
     "input": [
      "def filter_name(filter_list, key):\n",
      "        positives = []\n",
      "        negatives = []\n",
      "#Regular comments can be embedded in the text after a pound sign.\n",
      "        for letter in filter_list:\n",
      "            if letter == key:\n",
      "                positives.append(letter)\n",
      "            else: \n",
      "                negatives.append(letter)\n",
      "        print negatives\n",
      "        return([positives, negatives])\n",
      "        \n",
      "def check_type(pos_list):\n",
      "   assert type(pos_list) == list\n",
      "   \n",
      "def check_input(last_name):\n",
      "     new_list = []\n",
      "     last_name = list(last_name)\n",
      "     for letter in last_name:\n",
      "        try:\n",
      "            new_list.append(int(letter))\n",
      "        except:\n",
      "            pass\n",
      "     for val in new_list:\n",
      "        if str(val) in last_name:\n",
      "            last_name.remove(str(val))\n",
      "     return(last_name)\n",
      "    \n",
      "if __name__ == '__main__':\n",
      "    filter_list = check_input(last_name)\n",
      "    pos_list = filter_name(filter_list, key)[1]\n",
      "    check_type(pos_list)"
     ],
     "language": "python",
     "metadata": {},
     "outputs": [
      {
       "output_type": "stream",
       "stream": "stdout",
       "text": [
        "['w', 'r', 'h', 't']\n"
       ]
      }
     ],
     "prompt_number": 53
    },
    {
     "cell_type": "markdown",
     "metadata": {},
     "source": [
      "Testing can get complicated fast. And it's not always possible to catch every mistake a user might make.\n"
     ]
    },
    {
     "cell_type": "code",
     "collapsed": false,
     "input": [
      "#Challenge\n",
      "\n",
      "+ Write a function that would pass this test:\n",
      "\n",
      "assert myfunction(5) == 25\n",
      "\n",
      "+ Write a test that would ensure the input to your function will work with your function.\n"
     ],
     "language": "python",
     "metadata": {},
     "outputs": []
    },
    {
     "cell_type": "code",
     "collapsed": false,
     "input": [],
     "language": "python",
     "metadata": {},
     "outputs": []
    }
   ],
   "metadata": {}
  }
 ]
}