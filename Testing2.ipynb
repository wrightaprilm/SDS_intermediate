{
 "metadata": {
  "name": "",
  "signature": "sha256:68483c03514078d778a653c51bf5066fc8c0e43e338c8c95f2d8e8637ad9d1f2"
 },
 "nbformat": 3,
 "nbformat_minor": 0,
 "worksheets": [
  {
   "cells": [
    {
     "cell_type": "markdown",
     "metadata": {},
     "source": [
      "#Try and Except Statements\n",
      "\n",
      "We learned about assert statements. These statements halt the execution of code. But what if we, say, had some deviations from normal input that wouldn't totally wreck our program. We would maybe want to handle that data without halting execution.\n",
      "\n",
      "Enter the try and except statement. Try and except statements allow us to _try_ an operation. If the operation goes off without a hitch, awesome! If not, the code executes the except statement. \n",
      "\n",
      "Going back to our function, what could be one place we could replace an assert statement with a try/except statement:"
     ]
    },
    {
     "cell_type": "code",
     "collapsed": false,
     "input": [
      "def filter_name(last_name, key):\n",
      "\t\"\"\"\n",
      "\tfunctions have a special kind of comment called a docstring. It is denoted\n",
      "\twith three quotes. These can be multi-line without including the quotes on \n",
      "\teach line. These are just helpful comments at the novice level, but if you \n",
      "\tplan to distribute code, are very important. See here for more: \n",
      "\thttp://www.pythonforbeginners.com/basics/python-docstrings \n",
      "\t\"\"\"\n",
      "\n",
      "        positives = []\n",
      "        negatives = []\n",
      "#Regular comments can be embedded in the text after a pound sign.\n",
      "        for letter in last_name:\n",
      "            assert letter.isalpha()\n",
      "            if letter == key:\n",
      "                positives.append(letter)\n",
      "            else: \n",
      "                negatives.append(letter)\n",
      "        return([positives, negatives])\n",
      "        "
     ],
     "language": "python",
     "metadata": {},
     "outputs": []
    },
    {
     "cell_type": "code",
     "collapsed": false,
     "input": [
      "def filter_name(last_name, key):\n",
      "\t\"\"\"\n",
      "\tfunctions have a special kind of comment called a docstring. It is denoted\n",
      "\twith three quotes. These can be multi-line without including the quotes on \n",
      "\teach line. These are just helpful comments at the novice level, but if you \n",
      "\tplan to distribute code, are very important. See here for more: \n",
      "\thttp://www.pythonforbeginners.com/basics/python-docstrings \n",
      "\t\"\"\"\n",
      "\n",
      "        positives = []\n",
      "        negatives = []\n",
      "#Regular comments can be embedded in the text after a pound sign.\n",
      "        for letter in last_name:\n",
      "            try:\n",
      "                letter.isalpha() == True\n",
      "                if letter == key:\n",
      "                    positives.append(letter)\n",
      "                else: \n",
      "                    negatives.append(letter)\n",
      "            except TypeError:\n",
      "                print \"this isn't a letter\"\n",
      "                pass\n",
      "        return([positives, negatives])\n",
      "        "
     ],
     "language": "python",
     "metadata": {},
     "outputs": [],
     "prompt_number": 2
    },
    {
     "cell_type": "markdown",
     "metadata": {},
     "source": [
      "Why does the above not work?\n",
      "Or, if you're looking ahead, how does the below fix the issue?"
     ]
    },
    {
     "cell_type": "code",
     "collapsed": false,
     "input": [
      "def filter_name(filter_list, key):\n",
      "\t\"\"\"\n",
      "\tfunctions have a special kind of comment called a docstring. It is denoted\n",
      "\twith three quotes. These can be multi-line without including the quotes on \n",
      "\teach line. These are just helpful comments at the novice level, but if you \n",
      "\tplan to distribute code, are very important. See here for more: \n",
      "\thttp://www.pythonforbeginners.com/basics/python-docstrings \n",
      "\t\"\"\"\n",
      "        positives = []\n",
      "        negatives = []\n",
      "#Regular comments can be embedded in the text after a pound sign.\n",
      "        for letter in filter_list:\n",
      "            if letter == key:\n",
      "                positives.append(letter)\n",
      "            else: \n",
      "                negatives.append(letter)\n",
      "        print negatives\n",
      "        return([positives, negatives])\n",
      "        \n",
      "def check_type(pos_list):\n",
      "   assert type(pos_list) == list\n",
      "   \n",
      "def check_input(last_name):\n",
      "     new_list = []\n",
      "     last_name = list(last_name)\n",
      "     for letter in last_name:\n",
      "        try:\n",
      "            new_list.append(int(letter))\n",
      "        except:\n",
      "            pass\n",
      "     for val in new_list:\n",
      "        if str(val) in last_name:\n",
      "            last_name.remove(str(val))\n",
      "     return(last_name)\n",
      "    \n",
      "if __name__ == '__main__':\n",
      "    filter_list = check_input(last_name)\n",
      "    pos_list = filter_name(filter_list, key)[1]\n",
      "    check_type(pos_list)"
     ],
     "language": "python",
     "metadata": {},
     "outputs": []
    },
    {
     "cell_type": "markdown",
     "metadata": {},
     "source": [
      "Testing can get complicated fast. And it's not always possible to catch every mistake a user might make.\n"
     ]
    },
    {
     "cell_type": "code",
     "collapsed": false,
     "input": [
      "#Challenge\n",
      "\n",
      "+ Write a function that would pass this test:\n",
      "\n",
      "assert myfunction(5) == 25\n",
      "\n",
      "+ Write a test that would ensure the input to your function will work with your function.\n"
     ],
     "language": "python",
     "metadata": {},
     "outputs": []
    }
   ],
   "metadata": {}
  }
 ]
}