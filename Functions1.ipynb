{
 "metadata": {
  "name": "",
  "signature": "sha256:22585417ca5c361de9744b2de0a565b8149ca85395c1d43c68de059659883b15"
 },
 "nbformat": 3,
 "nbformat_minor": 0,
 "worksheets": [
  {
   "cells": [
    {
     "cell_type": "markdown",
     "metadata": {},
     "source": [
      "#Functions\n",
      "\n",
      "One of the main theme in this bootcamp is the structure of how software can be organized. Functions provide structure for our code, and provide small, simple blocks of code that can be tested (more on this in a bit) The basic idea of a function is like that of an organ in the body: a unit that does a particular task and returns a defined output. Take a minute and look at the below code:\n"
     ]
    },
    {
     "cell_type": "code",
     "collapsed": false,
     "input": [
      "last_name = ['w','r','i','g','h','t']\n",
      "test_letter = 'g'\n",
      "         \n",
      "positives = []\n",
      "negatives = []\n",
      "for letter in last_name:\n",
      "    if letter == test_letter:\n",
      "         positives.append(letter)\n",
      "    else:\n",
      "         negatives.append(letter)\n",
      "\n",
      "print positives"
     ],
     "language": "python",
     "metadata": {},
     "outputs": [
      {
       "output_type": "stream",
       "stream": "stdout",
       "text": [
        "['g']\n"
       ]
      }
     ],
     "prompt_number": 4
    },
    {
     "cell_type": "markdown",
     "metadata": {},
     "source": [
      "Odds are, we will not want to sit at the command line and type this in every time we need to filter a list. What we're going to do in this module is learn how to take this bit of code, functionize it, save it to a script and make it more generalizeable to different lists and search keys. First, open your graphical text editor and paste in the code.\n",
      "\n",
      "A function is defined in the following way:\n",
      "\n",
      "```\n",
      "def name_of_function():\n",
      "\tcode goes here\n",
      "```\n",
      "\n",
      "The def() statement tells you the name of the function. In the parenthesis, we can put arguments, or information the function needs. We'll come back to this in a second. Our functionized code, in a clunky way in which you shouldn't write functions, could look like so:\n"
     ]
    },
    {
     "cell_type": "code",
     "collapsed": false,
     "input": [
      "def filter_name():\n",
      "\tpositives = []\n",
      "\tnegatives = []\n",
      "    last_name = ['w','r','i','g','h','t']\n",
      "    key = 'g'\n",
      "\tfor letter in last_name:\n",
      "\t\tif letter == key:\n",
      "\t\t\tpositives.append(letter)\n",
      "\t\telse: \n",
      "\t\t\tnegatives.append(letter)\n",
      "\treturn([positives, negatives])"
     ],
     "language": "python",
     "metadata": {},
     "outputs": [],
     "prompt_number": 6
    },
    {
     "cell_type": "markdown",
     "metadata": {},
     "source": [
      "That last line is called a return statement. It tells Python what we'd like to receive back. This is different than a print statement, as we are creating an object that can be used by other functions, not simply displaying information. The return statement ends a function.\n",
      "\n",
      "But who can see something bad about how this code is written? \n"
     ]
    },
    {
     "cell_type": "code",
     "collapsed": false,
     "input": [
      "last_name = ['w','r','i','g','h','t']\n",
      "key = 'g'\n",
      "def filter_name(last_name, key):\n",
      "\tpositives = []\n",
      "\tnegatives = []\n",
      "    \n",
      "\tfor letter in last_name:\n",
      "\t\tif letter == key:\n",
      "\t\t\tpositives.append(letter)\n",
      "\t\telse: \n",
      "\t\t\tnegatives.append(letter)\n",
      "\treturn([positives, negatives])"
     ],
     "language": "python",
     "metadata": {},
     "outputs": [],
     "prompt_number": 1
    },
    {
     "cell_type": "code",
     "collapsed": false,
     "input": [
      "filter_name()"
     ],
     "language": "python",
     "metadata": {},
     "outputs": [
      {
       "ename": "TypeError",
       "evalue": "filter_name() takes exactly 2 arguments (0 given)",
       "output_type": "pyerr",
       "traceback": [
        "\u001b[1;31m---------------------------------------------------------------------------\u001b[0m\n\u001b[1;31mTypeError\u001b[0m                                 Traceback (most recent call last)",
        "\u001b[1;32m<ipython-input-7-50c55a1e81f4>\u001b[0m in \u001b[0;36m<module>\u001b[1;34m()\u001b[0m\n\u001b[1;32m----> 1\u001b[1;33m \u001b[0mfilter_name\u001b[0m\u001b[1;33m(\u001b[0m\u001b[1;33m)\u001b[0m\u001b[1;33m\u001b[0m\u001b[0m\n\u001b[0m",
        "\u001b[1;31mTypeError\u001b[0m: filter_name() takes exactly 2 arguments (0 given)"
       ]
      }
     ],
     "prompt_number": 7
    },
    {
     "cell_type": "code",
     "collapsed": false,
     "input": [
      "No output! What happened? How do we fix it?"
     ],
     "language": "python",
     "metadata": {},
     "outputs": []
    },
    {
     "cell_type": "markdown",
     "metadata": {},
     "source": [
      "Time for a break. Here's a break time exercise. \n",
      "+ Move one of the variables inside the function. How does this change what arguments the function requires?\n",
      "+ Save the output of the function to a variable. How can we break apart the two lists? How might we change the function if we only needed one list?\n",
      "+ What if we want to provide a different list of letters? Try it!\n",
      "\n",
      "Use the cell below to test your ideas."
     ]
    },
    {
     "cell_type": "code",
     "collapsed": false,
     "input": [],
     "language": "python",
     "metadata": {},
     "outputs": []
    }
   ],
   "metadata": {}
  }
 ]
}