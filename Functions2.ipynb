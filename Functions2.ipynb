{
 "metadata": {
  "name": "",
  "signature": "sha256:b1ade2b7df13ba350463c2f8422c27ae7b62377306d884e4c5072337457ce87d"
 },
 "nbformat": 3,
 "nbformat_minor": 0,
 "worksheets": [
  {
   "cells": [
    {
     "cell_type": "markdown",
     "metadata": {},
     "source": [
      "#Functions 2 \n",
      "\n",
      "Now, we're going to try running this code as a Python script. First, let's download our notebook as a script.\n",
      "\n",
      "We're going to execute our code at the interpreter by typing \n",
      "\n",
      "python Name_of_script.py\n",
      "\n",
      "Is your output what you expected?"
     ]
    },
    {
     "cell_type": "markdown",
     "metadata": {},
     "source": [
      "##Can anyone see a problem?\n",
      "\n",
      "What we've done so far is called hardcoding. Hardcoding is the practice of including important information in the code itself. Generally, this is bad practice, as every time we want to change our data, we must go into the code and change it. This increases possiblility of making a mistake and wrecking some of our code. We can avoid this by changing our code around a bit.\n",
      "\n",
      "Python comes with a number of modules that can be imported for use by the user. One such module is the [sys module](https://docs.python.org/2/library/sys.html), and it's most well-known function is called argv. This command allows users to feed a script some input, without ever opening the script.\n",
      "\n",
      "We're going to change our function a little bit, and create our first real Python script. First, to the very top of the .py file you downloaded, add the following line:\n",
      "\n",
      "import sys\n",
      "\n",
      "It's standard practice to include all modules at the top of the script so that other users can tell if they have all of the right libraries installed. We can modify our function as such:\n"
     ]
    },
    {
     "cell_type": "code",
     "collapsed": false,
     "input": [
      "\n",
      "last_name = sys.argv[1]\n",
      "key = sys.argv[2]\n",
      "\n",
      "def filter_name(last_name, key):\n",
      "        positives = []\n",
      "        negatives = []\n",
      "        for letter in last_name:\n",
      "                if letter == key:\n",
      "                        positives.append(letter)\n",
      "                else: \n",
      "                        negatives.append(letter)\n",
      "        return([positives, negatives])"
     ],
     "language": "python",
     "metadata": {},
     "outputs": [],
     "prompt_number": 2
    },
    {
     "cell_type": "markdown",
     "metadata": {},
     "source": [
      "And we can call this as such:\n",
      "    \n",
      "python Functions2.py 'wright' 'i'\n",
      "\n",
      "What this means is for the variable last_name, accept an argument presented at the command line. The first argument provided, will become last_name. The second will be the search key.\n",
      "\n",
      "If you still don't see output, make sure you've included a function call."
     ]
    },
    {
     "cell_type": "code",
     "collapsed": false,
     "input": [
      "last_name = sys.argv[1]\n",
      "key = sys.argv[2]\n",
      "\n",
      "def filter_name(last_name, key):\n",
      "\t\"\"\"functions have a special kind of comment called a docstring. It is denoted\n",
      "\twith three quotes. These can be multi-line without including the quotes on \n",
      "\teach line. These are just helpful comments at the novice level, but if you \n",
      "\tplan to distribute code, are very important. See here for more: \n",
      "\thttp://www.pythonforbeginners.com/basics/python-docstrings \"\"\"\n",
      "\tpositives = []\n",
      "\tnegatives = []\n",
      "#Regular comments can be embedded in the text after a pound sign.\n",
      "\tfor letter in last_name:\n",
      "\t\tif letter == key:\n",
      "\t\t\tpositives.append(letter)\n",
      "        else: \n",
      "            negatives.append(letter)\n",
      "        return([positives, negatives])"
     ],
     "language": "python",
     "metadata": {},
     "outputs": [
      {
       "ename": "NameError",
       "evalue": "name 'sys' is not defined",
       "output_type": "pyerr",
       "traceback": [
        "\u001b[1;31m---------------------------------------------------------------------------\u001b[0m\n\u001b[1;31mNameError\u001b[0m                                 Traceback (most recent call last)",
        "\u001b[1;32m<ipython-input-4-98f3f0f75b46>\u001b[0m in \u001b[0;36m<module>\u001b[1;34m()\u001b[0m\n\u001b[1;32m----> 1\u001b[1;33m \u001b[0mlast_name\u001b[0m \u001b[1;33m=\u001b[0m \u001b[0msys\u001b[0m\u001b[1;33m.\u001b[0m\u001b[0margv\u001b[0m\u001b[1;33m[\u001b[0m\u001b[1;36m1\u001b[0m\u001b[1;33m]\u001b[0m\u001b[1;33m\u001b[0m\u001b[0m\n\u001b[0m\u001b[0;32m      2\u001b[0m \u001b[0mkey\u001b[0m \u001b[1;33m=\u001b[0m \u001b[0msys\u001b[0m\u001b[1;33m.\u001b[0m\u001b[0margv\u001b[0m\u001b[1;33m[\u001b[0m\u001b[1;36m2\u001b[0m\u001b[1;33m]\u001b[0m\u001b[1;33m\u001b[0m\u001b[0m\n\u001b[0;32m      3\u001b[0m \u001b[1;33m\u001b[0m\u001b[0m\n\u001b[0;32m      4\u001b[0m \u001b[1;32mdef\u001b[0m \u001b[0mfilter_name\u001b[0m\u001b[1;33m(\u001b[0m\u001b[0mlast_name\u001b[0m\u001b[1;33m,\u001b[0m \u001b[0mkey\u001b[0m\u001b[1;33m)\u001b[0m\u001b[1;33m:\u001b[0m\u001b[1;33m\u001b[0m\u001b[0m\n\u001b[0;32m      5\u001b[0m \t\"\"\"functions have a special kind of comment called a docstring. It is denoted\n",
        "\u001b[1;31mNameError\u001b[0m: name 'sys' is not defined"
       ]
      }
     ],
     "prompt_number": 4
    },
    {
     "cell_type": "markdown",
     "metadata": {},
     "source": [
      "##Challenges:\n",
      "\n",
      "+ What happens if you put your print statement outside of your function?\n",
      "+ How could you pipe unix and python together so you could save your input?"
     ]
    }
   ],
   "metadata": {}
  }
 ]
}