{
 "metadata": {
  "name": "",
  "signature": "sha256:88ce9bb517eae1e0f0ad8ccfd68e49aba87a846f76ee286f1c826c60cf621a97"
 },
 "nbformat": 3,
 "nbformat_minor": 0,
 "worksheets": [
  {
   "cells": [
    {
     "cell_type": "markdown",
     "metadata": {},
     "source": [
      "#Testing \n",
      "\n",
      "We're now going to talk more seriously about testing. So what is unit testing?\n",
      "\n",
      "Testing automates the process of ensuring correctness in our programs. We define a 'correct' output and write statements to check if the output of our functions matches the 'correct' output.\n",
      "\n",
      "We've already seen the assert statement, but let's revisit it. Based on the behavior of our previous code, what would we guess the behavior of assert should be?\n",
      "\n",
      "An assertion is one of the easiest ways to add testing to your code. You'll want use an assert statement if you have something about your data that _must_ be true. We could put these at the start of a function (pre-condition), on the output (postcondition) or outside the function, and must always be true (invariant). \n"
     ]
    },
    {
     "cell_type": "markdown",
     "metadata": {},
     "source": [
      "Looking at our previous code, where could we put a precondition? \n",
      "What have we previously written that is a post condition?\n",
      "Try to intentionally fail the pre-condition?\n",
      "If we've passed the precondition, could we fail this post-condition?"
     ]
    },
    {
     "cell_type": "markdown",
     "metadata": {},
     "source": [
      "From Software Carpentry's materials on testing: \n",
      "\n",
      "```Most good programmers follow two rules when adding assertions to their code. The first is, \"fail early, fail often\". The greater the distance between when and where an error occurs and when it's noticed, the harder the error will be to debug, so good code catches mistakes as early as possible.\n",
      "\n",
      "The second rule is, \"turn bugs into assertions or tests\". If you made a mistake in a piece of code, the odds are good that you have made other mistakes nearby, or will make the same mistake (or a related one) the next time you change it. Writing assertions to check that you haven't regressed (i.e., haven't re-introduced an old problem) can save a lot of time in the long run, and helps to warn people who are reading the code (including your future self) that this bit is tricky.\n",
      "```"
     ]
    },
    {
     "cell_type": "markdown",
     "metadata": {},
     "source": [
      "#Challenge\n",
      "\n",
      "+Suppose you are writing a function called average that calculates the average of the numbers in a list. What pre-conditions and post-conditions would you write for it? Compare your answer to your neighbor's: can you think of a function that will past your tests but not theirs or vice versa?\n",
      "\n",
      "+Explain in words what the assertions in this code check, and for each one, give an example of input that will make that assertion fail.\n",
      "\n",
      "    def running(values):\n",
      "    assert len(values) > 0\n",
      "    result = [values[0]]\n",
      "    for v in values[1:]:\n",
      "    assert result[-1] >= 0\n",
      "    result.append(result[-1] + v)\n",
      "    assert result[-1] >= result[0]\n",
      "    return result\n",
      "\n"
     ]
    }
   ],
   "metadata": {}
  }
 ]
}