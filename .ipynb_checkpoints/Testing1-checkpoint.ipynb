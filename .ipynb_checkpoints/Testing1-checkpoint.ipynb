{
 "metadata": {
  "name": "",
  "signature": "sha256:29d491cd99c632f26754568a8cba5c89bc6dc07d9a445c0b101645ec9e53ece6"
 },
 "nbformat": 3,
 "nbformat_minor": 0,
 "worksheets": [
  {
   "cells": [
    {
     "cell_type": "markdown",
     "metadata": {},
     "source": [
      "#Testing \n",
      "\n",
      "We're now going to talk more seriously about testing. So what is unit testing?\n",
      "\n",
      "Testing automates the process of ensuring correctness in our programs. We define a 'correct' output and write statements to check if the output of our functions matches the 'correct' output.\n",
      "\n",
      "We've already seen the assert statement, but let's revisit it. Based on the behavior of our previous code, what would we guess the behavior of assert should be?\n",
      "\n",
      "An assertion is one of the easiest ways to add testing to your code. You'll want use an assert statement if you have something about your data that _must_ be true. We could put these at the start of a function (pre-condition), on the output (postcondition) or outside the function, and must always be true (invariant). \n"
     ]
    },
    {
     "cell_type": "markdown",
     "metadata": {},
     "source": [
      "Looking at our previous code, where could we put a precondition? \n"
     ]
    },
    {
     "cell_type": "code",
     "collapsed": false,
     "input": [
      "def filter_name(last_name, key):\n",
      "        positives = []\n",
      "        negatives = []\n",
      "#Regular comments can be embedded in the text after a pound sign.        \n",
      "        for letter in last_name:\n",
      "                if letter == key:\n",
      "                        positives.append(letter)\n",
      "                else: \n",
      "                        negatives.append(letter)\n",
      "        return([positives, negatives])\n",
      "print filter_name(last_name, key)"
     ],
     "language": "python",
     "metadata": {},
     "outputs": []
    },
    {
     "cell_type": "code",
     "collapsed": false,
     "input": [
      "last_name = 'wright'\n",
      "key = 'g'\n",
      "\n",
      "\n",
      "def filter_name(last_name, key):\n",
      "        assert len(last_name) > 1\n",
      "        assert key.isalpha\n",
      "        positives = []\n",
      "        negatives = []\n",
      "#Regular comments can be embedded in the text after a pound sign.        \n",
      "        for letter in last_name:\n",
      "                if letter == key:\n",
      "                        positives.append(letter)\n",
      "                else: \n",
      "                        negatives.append(letter)\n",
      "        return([positives, negatives])\n",
      "print filter_name(last_name, key)"
     ],
     "language": "python",
     "metadata": {},
     "outputs": [
      {
       "ename": "AttributeError",
       "evalue": "'int' object has no attribute 'isalpha'",
       "output_type": "pyerr",
       "traceback": [
        "\u001b[1;31m---------------------------------------------------------------------------\u001b[0m\n\u001b[1;31mAttributeError\u001b[0m                            Traceback (most recent call last)",
        "\u001b[1;32m<ipython-input-6-7c8475024762>\u001b[0m in \u001b[0;36m<module>\u001b[1;34m()\u001b[0m\n\u001b[0;32m     15\u001b[0m                         \u001b[0mnegatives\u001b[0m\u001b[1;33m.\u001b[0m\u001b[0mappend\u001b[0m\u001b[1;33m(\u001b[0m\u001b[0mletter\u001b[0m\u001b[1;33m)\u001b[0m\u001b[1;33m\u001b[0m\u001b[0m\n\u001b[0;32m     16\u001b[0m         \u001b[1;32mreturn\u001b[0m\u001b[1;33m(\u001b[0m\u001b[1;33m[\u001b[0m\u001b[0mpositives\u001b[0m\u001b[1;33m,\u001b[0m \u001b[0mnegatives\u001b[0m\u001b[1;33m]\u001b[0m\u001b[1;33m)\u001b[0m\u001b[1;33m\u001b[0m\u001b[0m\n\u001b[1;32m---> 17\u001b[1;33m \u001b[1;32mprint\u001b[0m \u001b[0mfilter_name\u001b[0m\u001b[1;33m(\u001b[0m\u001b[0mlast_name\u001b[0m\u001b[1;33m,\u001b[0m \u001b[0mkey\u001b[0m\u001b[1;33m)\u001b[0m\u001b[1;33m\u001b[0m\u001b[0m\n\u001b[0m",
        "\u001b[1;32m<ipython-input-6-7c8475024762>\u001b[0m in \u001b[0;36mfilter_name\u001b[1;34m(last_name, key)\u001b[0m\n\u001b[0;32m      5\u001b[0m \u001b[1;32mdef\u001b[0m \u001b[0mfilter_name\u001b[0m\u001b[1;33m(\u001b[0m\u001b[0mlast_name\u001b[0m\u001b[1;33m,\u001b[0m \u001b[0mkey\u001b[0m\u001b[1;33m)\u001b[0m\u001b[1;33m:\u001b[0m\u001b[1;33m\u001b[0m\u001b[0m\n\u001b[0;32m      6\u001b[0m         \u001b[1;32massert\u001b[0m \u001b[0mlen\u001b[0m\u001b[1;33m(\u001b[0m\u001b[0mlast_name\u001b[0m\u001b[1;33m)\u001b[0m \u001b[1;33m>\u001b[0m \u001b[1;36m1\u001b[0m\u001b[1;33m\u001b[0m\u001b[0m\n\u001b[1;32m----> 7\u001b[1;33m         \u001b[1;32massert\u001b[0m \u001b[0mkey\u001b[0m\u001b[1;33m.\u001b[0m\u001b[0misalpha\u001b[0m\u001b[1;33m\u001b[0m\u001b[0m\n\u001b[0m\u001b[0;32m      8\u001b[0m         \u001b[0mpositives\u001b[0m \u001b[1;33m=\u001b[0m \u001b[1;33m[\u001b[0m\u001b[1;33m]\u001b[0m\u001b[1;33m\u001b[0m\u001b[0m\n\u001b[0;32m      9\u001b[0m         \u001b[0mnegatives\u001b[0m \u001b[1;33m=\u001b[0m \u001b[1;33m[\u001b[0m\u001b[1;33m]\u001b[0m\u001b[1;33m\u001b[0m\u001b[0m\n",
        "\u001b[1;31mAttributeError\u001b[0m: 'int' object has no attribute 'isalpha'"
       ]
      }
     ],
     "prompt_number": 6
    },
    {
     "cell_type": "markdown",
     "metadata": {},
     "source": [
      "Try to intentionally fail the pre-condition\n"
     ]
    },
    {
     "cell_type": "markdown",
     "metadata": {},
     "source": [
      "Add a post-condition"
     ]
    },
    {
     "cell_type": "code",
     "collapsed": false,
     "input": [
      "last_name = 'wright'\n",
      "key = 'g'\n",
      "\n",
      "\n",
      "def filter_name(last_name, key):\n",
      "        assert len(last_name) > 1\n",
      "        assert key.isalpha\n",
      "        positives = []\n",
      "        negatives = []\n",
      "#Regular comments can be embedded in the text after a pound sign.        \n",
      "        for letter in last_name:\n",
      "                if letter == key:\n",
      "                        positives.append(letter)\n",
      "                else: \n",
      "                        negatives.append(letter)\n",
      "        assert len(negatives) > 0\n",
      "        assert len(positives) > 0\n",
      "        return([positives, negatives])\n",
      "print filter_name(last_name, key)"
     ],
     "language": "python",
     "metadata": {},
     "outputs": [
      {
       "output_type": "stream",
       "stream": "stdout",
       "text": [
        "[['g'], ['w', 'r', 'i', 'h', 't']]\n"
       ]
      }
     ],
     "prompt_number": 7
    },
    {
     "cell_type": "markdown",
     "metadata": {},
     "source": [
      "If we have passed our pre-condition, is it possible to fail the post-condition?"
     ]
    },
    {
     "cell_type": "markdown",
     "metadata": {},
     "source": [
      "From Software Carpentry's materials on testing: \n",
      "\n",
      "'''Most good programmers follow two rules when adding assertions to their code. The first is, \"fail early, fail often\". The greater the distance between when and where an error occurs and when it's noticed, the harder the error will be to debug, so good code catches mistakes as early as possible.\n",
      "\n",
      "The second rule is, \"turn bugs into assertions or tests\". If you made a mistake in a piece of code, the odds are good that you have made other mistakes nearby, or will make the same mistake (or a related one) the next time you change it. Writing assertions to check that you haven't regressed (i.e., haven't re-introduced an old problem) can save a lot of time in the long run, and helps to warn people who are reading the code (including your future self) that this bit is tricky.\n",
      "'''"
     ]
    },
    {
     "cell_type": "markdown",
     "metadata": {},
     "source": [
      "#Challenge\n",
      "\n",
      "Suppose you are writing a function called average that calculates the average of the numbers in a list. What pre-conditions and post-conditions would you write for it? Compare your answer to your neighbor's: can you think of a function that will past your tests but not theirs or vice versa?\n",
      "\n",
      "Explain in words what the assertions in this code check, and for each one, give an example of input that will make that assertion fail:\n",
      "\n",
      "\n",
      "\n"
     ]
    },
    {
     "cell_type": "code",
     "collapsed": false,
     "input": [
      "values = [1,2,3,4,5]\n",
      "def running(values):\n",
      "    \n",
      "    assert len(values) > 0\n",
      "    result = [values[0]]\n",
      "    for v in values[1:]:\n",
      "        assert result[-1] >= 0\n",
      "        result.append(result[-1] + v)\n",
      "    assert result[-1] >= result[0]\n",
      "    return result\n",
      "running(values)"
     ],
     "language": "python",
     "metadata": {},
     "outputs": [
      {
       "output_type": "stream",
       "stream": "stdout",
       "text": [
        "[1, 3]\n",
        "[1, 3, 6]\n",
        "[1, 3, 6, 10]\n",
        "[1, 3, 6, 10, 15]\n",
        "[1, 3, 6, 10, 15]\n"
       ]
      },
      {
       "metadata": {},
       "output_type": "pyout",
       "prompt_number": 17,
       "text": [
        "[1, 3, 6, 10, 15]"
       ]
      }
     ],
     "prompt_number": 17
    },
    {
     "cell_type": "code",
     "collapsed": false,
     "input": [],
     "language": "python",
     "metadata": {},
     "outputs": [],
     "prompt_number": 14
    },
    {
     "cell_type": "code",
     "collapsed": false,
     "input": [],
     "language": "python",
     "metadata": {},
     "outputs": []
    }
   ],
   "metadata": {}
  }
 ]
}