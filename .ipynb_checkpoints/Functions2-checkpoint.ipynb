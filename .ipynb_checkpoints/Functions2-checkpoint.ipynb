{
 "metadata": {
  "name": "",
  "signature": "sha256:24b4642f81e1eddb1d6a3a4b86091ecb07a37579cce5962d5678f6e66d0dd6f9"
 },
 "nbformat": 3,
 "nbformat_minor": 0,
 "worksheets": [
  {
   "cells": [
    {
     "cell_type": "markdown",
     "metadata": {},
     "source": [
      "#Functions 2 \n",
      "\n",
      "Now, we're going to try running this code as a Python script. First, let's download our notebook as a script.\n",
      "\n",
      "We're going to execute our code at the interpreter by typing \n",
      "\n",
      "python Name_of_script.py\n",
      "\n",
      "Is your output what you expected?"
     ]
    },
    {
     "cell_type": "markdown",
     "metadata": {},
     "source": [
      "##Can anyone see a problem?\n",
      "\n",
      "What we've done so far is called hardcoding. Hardcoding is the practice of including important information in the code itself. Generally, this is bad practice, as every time we want to change our data, we must go into the code and change it. This increases possiblility of making a mistake and wrecking some of our code. We can avoid this by changing our code around a bit.\n",
      "\n",
      "Python comes with a number of modules that can be imported for use by the user. One such module is the [sys module](https://docs.python.org/2/library/sys.html), and it's most well-known function is called argv. This command allows users to feed a script some input, without ever opening the script.\n",
      "\n",
      "We're going to change our function a little bit, and create our first real Python script. First, to the very top of the .py file you downloaded, add the following line:\n",
      "\n",
      "import sys\n",
      "\n",
      "It's standard practice to include all modules at the top of the script so that other users can tell if they have all of the right libraries installed. We can modify our function as such:\n"
     ]
    },
    {
     "cell_type": "code",
     "collapsed": false,
     "input": [
      "\n",
      "last_name = sys.argv[1]\n",
      "key = sys.argv[2]\n",
      "\n",
      "def filter_name(last_name, key):\n",
      "        positives = []\n",
      "        negatives = []\n",
      "        for letter in last_name:\n",
      "                if letter == key:\n",
      "                        positives.append(letter)\n",
      "                else: \n",
      "                        negatives.append(letter)\n",
      "        return([positives, negatives])"
     ],
     "language": "python",
     "metadata": {},
     "outputs": [],
     "prompt_number": 2
    },
    {
     "cell_type": "markdown",
     "metadata": {},
     "source": [
      "And we can call this as such:\n",
      "    \n",
      "python Functions2.py 'wright' 'i'\n",
      "\n",
      "What this means is for the variable last_name, accept an argument presented at the command line. The first argument provided, will become last_name. The second will be the search key.\n",
      "\n",
      "If you still don't see output, make sure you've included a function call."
     ]
    }
   ],
   "metadata": {}
  }
 ]
}