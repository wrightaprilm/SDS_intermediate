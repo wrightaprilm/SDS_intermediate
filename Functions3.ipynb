{
 "metadata": {
  "name": "",
  "signature": "sha256:df825c72da2ca927111accc449bd650894ead9e880798afd866ec7c54f4dee47"
 },
 "nbformat": 3,
 "nbformat_minor": 0,
 "worksheets": [
  {
   "cells": [
    {
     "cell_type": "markdown",
     "metadata": {},
     "source": [
      "#Calling Multiple functions\n",
      "\n",
      "We can us the output of one function in another in different ways. Let's make a second function. We're going to bring in a little material from testing, which we'll be learning in a bit."
     ]
    },
    {
     "cell_type": "code",
     "collapsed": false,
     "input": [
      "def check_type():\n",
      "   assert type(We need to put something here!) == list"
     ],
     "language": "python",
     "metadata": {},
     "outputs": []
    },
    {
     "cell_type": "markdown",
     "metadata": {},
     "source": [
      "OK, educated guess time: What is this function doing?\n",
      "How can we get the output from the first function into the second?"
     ]
    },
    {
     "cell_type": "code",
     "collapsed": false,
     "input": [
      "def check_type():\n",
      "   assert type(filter_name(last_name,key)[1]) == list"
     ],
     "language": "python",
     "metadata": {},
     "outputs": [],
     "prompt_number": 1
    },
    {
     "cell_type": "markdown",
     "metadata": {},
     "source": [
      "Add the above code to your script. Call the function. What is the type argument checking?\n",
      "\n",
      "What are the benefits of providing input in this way?\n",
      "\n",
      "What are the drawbacks?"
     ]
    },
    {
     "cell_type": "markdown",
     "metadata": {},
     "source": [
      "Let's try this a little differently. Let's say we want to run this code in a less hardcoded way."
     ]
    },
    {
     "cell_type": "code",
     "collapsed": false,
     "input": [
      "def check_type(pos_list):\n",
      "   assert type(pos_list) == list\n",
      "   \n",
      "   \n",
      "if __name__ == '__main__':\n",
      "    pos_list = filter_name(last_name,key)[1]\n",
      "    check_type(pos_list)"
     ],
     "language": "python",
     "metadata": {},
     "outputs": []
    },
    {
     "cell_type": "markdown",
     "metadata": {},
     "source": [
      "###What's different here?\n",
      "+ Check type now takes an argument\n",
      "+ This argument is defined in the __main__ statement.\n",
      "\n",
      "###The main statement\n",
      "\n",
      "This odd looking statement tells Python that this code can either be run as a stand-alone module or as a script. This allows us to define actions that will be taken per script and in what order. This also allows our code to be imported as a module in a separate script wholly. We won't be doing this today, but please do see the 'Code as a module' link on the site."
     ]
    },
    {
     "cell_type": "markdown",
     "metadata": {},
     "source": [
      "#Challenge\n",
      "\n",
      "+Play with the main statement a bit. What if we wanted to test the first list? Both?\n",
      "+What if we take out the init statement?"
     ]
    }
   ],
   "metadata": {}
  }
 ]
}